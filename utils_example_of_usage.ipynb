{
 "cells": [
  {
   "cell_type": "markdown",
   "id": "f3f3d06f",
   "metadata": {},
   "source": [
    "## Utilities\n",
    "<br>\n",
    "This notebook has the objective of displaying some of the utilities that have been used\n",
    "in the project, in particular how the graph representing each sentence is built \n",
    "and how it can be visualized. <br> <br>\n",
    "It is important to note that the dataset that has to be fed to our GNNs \n",
    "is an extension of the Dataset class from torch_geometric, here a temporary one is \n",
    "created and displayed."
   ]
  },
  {
   "cell_type": "code",
   "execution_count": 5,
   "id": "ae2177f5",
   "metadata": {},
   "outputs": [
    {
     "name": "stdout",
     "output_type": "stream",
     "text": [
      "Obtaining file:///C:/Users/giova/Desktop/master%27s/NLP/GCNs_on_text/TweebankNLP/twitter-stanza\n",
      "  Preparing metadata (setup.py): started\n",
      "  Preparing metadata (setup.py): finished with status 'done'\n",
      "Requirement already satisfied: emoji in c:\\users\\giova\\miniconda3\\lib\\site-packages (from stanza==1.3.0) (2.2.0)\n",
      "Requirement already satisfied: numpy in c:\\users\\giova\\miniconda3\\lib\\site-packages (from stanza==1.3.0) (1.23.1)\n",
      "Requirement already satisfied: protobuf in c:\\users\\giova\\miniconda3\\lib\\site-packages (from stanza==1.3.0) (3.19.4)\n",
      "Requirement already satisfied: requests in c:\\users\\giova\\miniconda3\\lib\\site-packages (from stanza==1.3.0) (2.27.1)\n",
      "Requirement already satisfied: six in c:\\users\\giova\\miniconda3\\lib\\site-packages (from stanza==1.3.0) (1.16.0)\n",
      "Requirement already satisfied: torch>=1.3.0 in c:\\users\\giova\\miniconda3\\lib\\site-packages (from stanza==1.3.0) (2.0.1)\n",
      "Requirement already satisfied: tqdm in c:\\users\\giova\\miniconda3\\lib\\site-packages (from stanza==1.3.0) (4.63.0)\n",
      "Requirement already satisfied: filelock in c:\\users\\giova\\miniconda3\\lib\\site-packages (from torch>=1.3.0->stanza==1.3.0) (3.7.1)\n",
      "Requirement already satisfied: typing-extensions in c:\\users\\giova\\miniconda3\\lib\\site-packages (from torch>=1.3.0->stanza==1.3.0) (4.3.0)\n",
      "Requirement already satisfied: sympy in c:\\users\\giova\\miniconda3\\lib\\site-packages (from torch>=1.3.0->stanza==1.3.0) (1.11.1)\n",
      "Requirement already satisfied: networkx in c:\\users\\giova\\miniconda3\\lib\\site-packages (from torch>=1.3.0->stanza==1.3.0) (2.8.4)\n",
      "Requirement already satisfied: jinja2 in c:\\users\\giova\\miniconda3\\lib\\site-packages (from torch>=1.3.0->stanza==1.3.0) (3.1.2)\n",
      "Requirement already satisfied: urllib3<1.27,>=1.21.1 in c:\\users\\giova\\miniconda3\\lib\\site-packages (from requests->stanza==1.3.0) (1.26.8)\n",
      "Requirement already satisfied: certifi>=2017.4.17 in c:\\users\\giova\\miniconda3\\lib\\site-packages (from requests->stanza==1.3.0) (2023.5.7)\n",
      "Requirement already satisfied: charset-normalizer~=2.0.0 in c:\\users\\giova\\miniconda3\\lib\\site-packages (from requests->stanza==1.3.0) (2.0.4)\n",
      "Requirement already satisfied: idna<4,>=2.5 in c:\\users\\giova\\miniconda3\\lib\\site-packages (from requests->stanza==1.3.0) (3.3)\n",
      "Requirement already satisfied: colorama in c:\\users\\giova\\miniconda3\\lib\\site-packages (from tqdm->stanza==1.3.0) (0.4.4)\n",
      "Requirement already satisfied: MarkupSafe>=2.0 in c:\\users\\giova\\miniconda3\\lib\\site-packages (from jinja2->torch>=1.3.0->stanza==1.3.0) (2.1.1)\n",
      "Requirement already satisfied: mpmath>=0.19 in c:\\users\\giova\\miniconda3\\lib\\site-packages (from sympy->torch>=1.3.0->stanza==1.3.0) (1.2.1)\n",
      "Installing collected packages: stanza\n",
      "  Attempting uninstall: stanza\n",
      "    Found existing installation: stanza 1.3.0\n",
      "    Uninstalling stanza-1.3.0:\n",
      "      Successfully uninstalled stanza-1.3.0\n",
      "  Running setup.py develop for stanza\n",
      "Successfully installed stanza-1.3.0\n"
     ]
    },
    {
     "name": "stderr",
     "output_type": "stream",
     "text": [
      "\n",
      "[notice] A new release of pip is available: 23.1.2 -> 23.2.1\n",
      "[notice] To update, run: python.exe -m pip install --upgrade pip\n"
     ]
    },
    {
     "name": "stdout",
     "output_type": "stream",
     "text": [
      "Requirement already satisfied: pythainlp in c:\\users\\giova\\miniconda3\\lib\\site-packages (4.0.2)\n",
      "Requirement already satisfied: requests>=2.22.0 in c:\\users\\giova\\miniconda3\\lib\\site-packages (from pythainlp) (2.27.1)\n",
      "Requirement already satisfied: urllib3<1.27,>=1.21.1 in c:\\users\\giova\\miniconda3\\lib\\site-packages (from requests>=2.22.0->pythainlp) (1.26.8)\n",
      "Requirement already satisfied: certifi>=2017.4.17 in c:\\users\\giova\\miniconda3\\lib\\site-packages (from requests>=2.22.0->pythainlp) (2023.5.7)\n",
      "Requirement already satisfied: charset-normalizer~=2.0.0 in c:\\users\\giova\\miniconda3\\lib\\site-packages (from requests>=2.22.0->pythainlp) (2.0.4)\n",
      "Requirement already satisfied: idna<4,>=2.5 in c:\\users\\giova\\miniconda3\\lib\\site-packages (from requests>=2.22.0->pythainlp) (3.3)\n"
     ]
    },
    {
     "name": "stderr",
     "output_type": "stream",
     "text": [
      "\n",
      "[notice] A new release of pip is available: 23.1.2 -> 23.2.1\n",
      "[notice] To update, run: python.exe -m pip install --upgrade pip\n",
      "../TweebankNLP/download_twitter_resources.sh: line 2: wget: command not found\n",
      "unzip:  cannot find or open glove.twitter.27B.zip, glove.twitter.27B.zip.zip or glove.twitter.27B.zip.ZIP.\n",
      "rm: cannot remove 'glove.twitter.27B.zip': No such file or directory\n",
      "C:\\Users\\giova\\miniconda3\\python.exe: can't open file 'C:\\Users\\giova\\Desktop\\master's\\NLP\\GCNs_on_text\\GCNs_on_text\\data\\wordvec\\English\\convert_vectors.py': [Errno 2] No such file or directory\n",
      "../TweebankNLP/download_twitter_resources.sh: line 11: wget: command not found\n",
      "unzip:  cannot find or open tweebanknlp_saved_models.zip, tweebanknlp_saved_models.zip.zip or tweebanknlp_saved_models.zip.ZIP.\n",
      "rm: cannot remove 'tweebanknlp_saved_models.zip': No such file or directory\n"
     ]
    }
   ],
   "source": [
    "!pip install -e ../TweebankNLP/twitter-stanza\n",
    "!pip install pythainlp\n",
    "!sh ../TweebankNLP/download_twitter_resources.sh"
   ]
  },
  {
   "cell_type": "code",
   "execution_count": 1,
   "id": "905bf9f9",
   "metadata": {},
   "outputs": [
    {
     "data": {
      "application/json": {
       "ascii": false,
       "bar_format": null,
       "colour": null,
       "elapsed": 0.02626204490661621,
       "initial": 0,
       "n": 0,
       "ncols": null,
       "nrows": 29,
       "postfix": null,
       "prefix": "Downloading https://raw.githubusercontent.com/stanfordnlp/stanza-resources/main/resources_1.3.0.json",
       "rate": null,
       "total": 24459,
       "unit": "B",
       "unit_divisor": 1000,
       "unit_scale": true
      },
      "application/vnd.jupyter.widget-view+json": {
       "model_id": "7b166efbcf74432e83639050fcd09a37",
       "version_major": 2,
       "version_minor": 0
      },
      "text/plain": [
       "Downloading https://raw.githubusercontent.com/stanfordnlp/stanza-resources/main/resources_1.3.0.json:   0%|   …"
      ]
     },
     "metadata": {},
     "output_type": "display_data"
    },
    {
     "name": "stderr",
     "output_type": "stream",
     "text": [
      "2023-09-15 12:50:59 INFO: Downloading default packages for language: en (English)...\n",
      "2023-09-15 12:51:01 INFO: File exists: C:\\Users\\giova\\stanza_resources\\en\\default.zip.\n",
      "2023-09-15 12:51:05 INFO: Finished downloading models and saved to C:\\Users\\giova\\stanza_resources.\n",
      "2023-09-15 12:51:05 INFO: Loading these models for language: en (English):\n",
      "=========================\n",
      "| Processor | Package   |\n",
      "-------------------------\n",
      "| tokenize  | combined  |\n",
      "| pos       | combined  |\n",
      "| lemma     | combined  |\n",
      "| depparse  | combined  |\n",
      "| ner       | ontonotes |\n",
      "=========================\n",
      "\n",
      "2023-09-15 12:51:05 INFO: Use device: gpu\n",
      "2023-09-15 12:51:05 INFO: Loading: tokenize\n",
      "2023-09-15 12:51:05 INFO: Loading: pos\n"
     ]
    },
    {
     "name": "stdout",
     "output_type": "stream",
     "text": [
      "[['tokenize', 'combined'], ['pos', 'combined'], ['lemma', 'combined'], ['depparse', 'combined'], ['ner', 'ontonotes']]\n"
     ]
    },
    {
     "name": "stderr",
     "output_type": "stream",
     "text": [
      "2023-09-15 12:51:12 INFO: Loading: lemma\n",
      "2023-09-15 12:51:12 INFO: Loading: depparse\n",
      "2023-09-15 12:51:13 INFO: Loading: ner\n",
      "2023-09-15 12:51:14 INFO: Done loading processors!\n"
     ]
    },
    {
     "name": "stdout",
     "output_type": "stream",
     "text": [
      "Utils have been correctly loaded\n"
     ]
    }
   ],
   "source": [
    "import utils"
   ]
  },
  {
   "cell_type": "code",
   "execution_count": 3,
   "id": "8a00415b",
   "metadata": {},
   "outputs": [
    {
     "name": "stdout",
     "output_type": "stream",
     "text": [
      "id: 1\thead id: 5\tdependency relation: nsubj\tword: This\n",
      "id: 2\thead id: 5\tdependency relation: cop\tword: is\n",
      "id: 3\thead id: 5\tdependency relation: amod\tword: an\n",
      "id: 4\thead id: 5\tdependency relation: amod\tword: example\n",
      "id: 5\thead id: 0\tdependency relation: root\tword: needed\n",
      "id: 6\thead id: 7\tdependency relation: mark\tword: to\n",
      "id: 7\thead id: 5\tdependency relation: acl\tword: understand\n",
      "id: 8\thead id: 10\tdependency relation: advmod\tword: how\n",
      "id: 9\thead id: 10\tdependency relation: det\tword: the\n",
      "id: 10\thead id: 7\tdependency relation: obj\tword: dependency\n",
      "id: 11\thead id: 5\tdependency relation: discourse\tword: parser,\n",
      "id: 1\thead id: 5\tdependency relation: case\tword: from\n",
      "id: 2\thead id: 5\tdependency relation: det\tword: the\n",
      "id: 3\thead id: 4\tdependency relation: compound\tword: Stanza\n",
      "id: 4\thead id: 5\tdependency relation: compound\tword: library,\n",
      "id: 5\thead id: 10\tdependency relation: nsubj\tword: works.\n",
      "id: 6\thead id: 8\tdependency relation: nummod\tword: Two\n",
      "id: 7\thead id: 8\tdependency relation: compound\tword: separate\n",
      "id: 8\thead id: 10\tdependency relation: nsubj\tword: sentences\n",
      "id: 9\thead id: 10\tdependency relation: cop\tword: are\n",
      "id: 10\thead id: 0\tdependency relation: root\tword: parsed.\n"
     ]
    }
   ],
   "source": [
    "utils.print_example(\"\"\"This is an example needed to understand how the dependency parser, \n",
    "              from the Stanza library, works. Two separate sentences are parsed.\"\"\")"
   ]
  },
  {
   "cell_type": "code",
   "execution_count": 4,
   "id": "40983c42",
   "metadata": {},
   "outputs": [
    {
     "name": "stdout",
     "output_type": "stream",
     "text": [
      "['My' 'babe' \"don't\" 'stand' 'no' 'cheating,']\n",
      "[[1 2 3 4 5 6 1 2 2 3 3 4 4 5 5 6]\n",
      " [2 0 2 2 6 4 2 1 3 2 4 3 5 4 6 5]]\n",
      "['of' 'course' 'she' 'will' 'believe' 'me.']\n",
      "[[ 8  9 10 11 12 13  8  9  9 10 10 11 11 12 12 13]\n",
      " [10 10 12 12  7 12  9  8 10  9 11 10 12 11 13 12]]\n"
     ]
    }
   ],
   "source": [
    "returned_dict = utils.get_tokens_and_dependencies(\"\"\"My babe don't stand no cheating, \n",
    "                                            of course she will believe me. \n",
    "                                            Oh yes, she don't stand no cheating\"\"\", \n",
    "                                            positional_links = True)\n",
    "print(returned_dict[\"0 tokens\"])\n",
    "print(returned_dict[\"0 dependency\"])\n",
    "print(returned_dict[\"1 tokens\"])\n",
    "print(returned_dict[\"1 dependency\"])"
   ]
  },
  {
   "cell_type": "code",
   "execution_count": 2,
   "id": "cd47caef",
   "metadata": {},
   "outputs": [
    {
     "name": "stdout",
     "output_type": "stream",
     "text": [
      "{'tokens': ['My', 'babe', \"don't\", 'stand', 'no', 'cheating,', 'of', 'course', 'she', 'will', 'believe', 'me.', 'Oh', 'yes,', 'she', \"don't\", 'stand', 'no', 'cheating'], 'dependency': array([[ 1,  2,  3,  4,  5,  6,  1,  2,  2,  3,  3,  4,  4,  5,  5,  6,\n",
      "         8,  9, 10, 11, 12, 13,  8,  9,  9, 10, 10, 11, 11, 12, 12, 13,\n",
      "        15, 16, 17, 18, 19, 20, 21, 15, 16, 16, 17, 17, 18, 18, 19, 19,\n",
      "        20, 20, 21],\n",
      "       [ 2,  0,  2,  2,  6,  4,  2,  1,  3,  2,  4,  3,  5,  4,  6,  5,\n",
      "        10, 10, 12, 12,  7, 12,  9,  8, 10,  9, 11, 10, 12, 11, 13, 12,\n",
      "        14, 17, 15, 15, 15, 19, 19, 16, 15, 17, 16, 18, 17, 19, 18, 20,\n",
      "        19, 21, 20]]), 'first_nodes': [0, 7, 14]}\n"
     ]
    }
   ],
   "source": [
    "merged = utils.get_forest_from_sentence(\"\"\"My babe don't stand no cheating, \n",
    "                                            of course she will believe me. \n",
    "                                            Oh yes, she don't stand no cheating\"\"\")\n",
    "print(merged)"
   ]
  },
  {
   "cell_type": "code",
   "execution_count": 15,
   "id": "ed3b0db4",
   "metadata": {},
   "outputs": [
    {
     "name": "stdout",
     "output_type": "stream",
     "text": [
      "tokens: ['I', 'love', 'natural', 'language', 'processing']\n",
      "Example of projection through PCA of the embeddings of four words in a 3 dimensional space:\n",
      "[[0.30797475 0.39720657 0.44447772]\n",
      " [0.3200298  0.44480306 0.41386649]\n",
      " [0.35748762 0.43441556 0.39780693]\n",
      " [0.35826923 0.43894089 0.42264988]]\n",
      "Number of elements in the vocabulary of the GloVe utils object:\n",
      "24\n",
      "Projections are needed to associate a color to each embedding\n"
     ]
    }
   ],
   "source": [
    "#change the embeddings directory and modify the datasetfromsentences class\n",
    "#to take parameters for the generation of the dataset, as it could be\n",
    "#created with both sentence node and without it.\n",
    "sentence = \"I love natural language processing\"\n",
    "doc = utils.nlp(sentence)\n",
    "tokens = []\n",
    "for sentence in doc.sentences:\n",
    "    tokens.extend([token.text for token in sentence.tokens])\n",
    "print(f\"tokens: {tokens}\")\n",
    "embeddings = utils.g_utils.embed_to_GloVe(tokens, pca_flag = True)\n",
    "print(\"Example of projection through PCA of the embeddings of four words in a 3 dimensional space:\")\n",
    "print(utils.g_utils.project_tokens([\"Antonio\", \"Pasquale\", \"Luigi\", \"The\"]))\n",
    "print(\"Number of elements in the vocabulary of the GloVe utils object:\")\n",
    "print(len(utils.g_utils.vocabulary.keys()))\n",
    "print(\"Projections are needed to associate a color to each embedding\")"
   ]
  },
  {
   "cell_type": "code",
   "execution_count": 36,
   "id": "db25c0c2",
   "metadata": {},
   "outputs": [
    {
     "name": "stderr",
     "output_type": "stream",
     "text": [
      "Processing...\n"
     ]
    },
    {
     "name": "stdout",
     "output_type": "stream",
     "text": [
      "['content/temp//temp.pt']\n",
      "missing local data in content/temp/, downloading...\n"
     ]
    },
    {
     "name": "stderr",
     "output_type": "stream",
     "text": [
      "3it [00:00,  7.53it/s]\n",
      "Done!\n"
     ]
    },
    {
     "name": "stdout",
     "output_type": "stream",
     "text": [
      "Graphs representing sentences are stored as:\n",
      "DataBatch(x=[4, 100], edge_index=[2, 7], y=[1], batch=[4], ptr=[2])\n",
      "DataBatch(x=[4, 100], edge_index=[2, 7], y=[1], batch=[4], ptr=[2])\n",
      "The graph representation is visualized as follows:\n"
     ]
    },
    {
     "data": {
      "image/png": "[encoded data removed]",
      "text/plain": [
       "<Figure size 504x504 with 1 Axes>"
      ]
     },
     "metadata": {},
     "output_type": "display_data"
    },
    {
     "name": "stdout",
     "output_type": "stream",
     "text": [
      "In order to visualize values output of the hidden graph layers, \n",
      "we can project the values in the original 3 dimensional space, since we already did PCA.\n",
      "This visualization is useful to check how the features are smoothed across neighbours:\n"
     ]
    },
    {
     "data": {
      "image/png": "[encoded data removed]",
      "text/plain": [
       "<Figure size 504x504 with 1 Axes>"
      ]
     },
     "metadata": {},
     "output_type": "display_data"
    }
   ],
   "source": [
    "sentences_list = [\"I love NLP\", \"Graphs are neat\", \"I don't think so\"]\n",
    "target_values = [0, 1, 0]\n",
    "temp_dataset = utils.Dataset_from_sentences(\"temp\", \"content/temp/\",\"content/drive/MyDrive/temp/\", \n",
    "                                           sentences_list, target_values)\n",
    "\n",
    "print(\"Graphs representing sentences are stored as:\")\n",
    "print(temp_dataset[0])\n",
    "print(temp_dataset[1])\n",
    "temp_glove_graph, td_dict = temp_dataset.__build_graph_Data_with_GloVe__(\"\"\"I hope that this will work. \n",
    "                                                           In case it doesn't it will be lame.\"\"\", 0, True)\n",
    "\n",
    "print(\"The graph representation is visualized as follows:\")\n",
    "utils.visualize_graph(temp_glove_graph, td_dict)\n",
    "x_features = temp_glove_graph.x\n",
    "links = temp_glove_graph.edge_index\n",
    "print(\"\"\"In order to visualize values output of the hidden graph layers, \n",
    "we can project the values in the original 3 dimensional space, since we already did PCA.\n",
    "This visualization is useful to check how the features are smoothed across neighbours:\"\"\")\n",
    "utils.visualize_hidden_graph(x_features, links, k_custom = float(0.6))"
   ]
  },
  {
   "cell_type": "code",
   "execution_count": 50,
   "id": "ea2f2e16",
   "metadata": {},
   "outputs": [
    {
     "name": "stdout",
     "output_type": "stream",
     "text": [
      "['content/temp//temp.pt']\n",
      "tensor([-0.0092,  0.0024,  0.0132,  0.0089,  0.0037,  0.0170,  0.0156,  0.0025,\n",
      "         0.0160, -0.0017, -0.0160, -0.0007, -0.1355, -0.0130,  0.0152, -0.0096,\n",
      "        -0.0043, -0.0147, -0.0193, -0.0232, -0.0040,  0.0004,  0.0022, -0.0007,\n",
      "        -0.0031, -0.0199,  0.0031,  0.0042, -0.0023,  0.0061, -0.0031,  0.0095,\n",
      "         0.0104, -0.0065, -0.0184, -0.0056,  0.0019, -0.0044, -0.0113, -0.0016,\n",
      "        -0.0665, -0.0095, -0.0046,  0.0113, -0.0148, -0.0076,  0.0027, -0.0006,\n",
      "        -0.0198, -0.0006, -0.0128,  0.0080, -0.0007, -0.0021,  0.0019,  0.0023,\n",
      "        -0.0101,  0.0074,  0.0125, -0.0091, -0.0024, -0.0031,  0.0054, -0.0056,\n",
      "         0.0018, -0.0074, -0.0133, -0.0027, -0.0121,  0.0137,  0.0082,  0.0125,\n",
      "         0.0078,  0.0026,  0.0100,  0.0066, -0.0168, -0.0027, -0.0034, -0.0056,\n",
      "         0.0322,  0.0133, -0.0053,  0.0068,  0.0156,  0.0125,  0.0183, -0.0128,\n",
      "        -0.0089, -0.0110, -0.0064,  0.0040,  0.0014,  0.0063, -0.0024, -0.0033,\n",
      "        -0.0044, -0.0010,  0.0159, -0.0093])\n"
     ]
    }
   ],
   "source": [
    "temp_dataset = utils.Dataset_from_sentences(\"temp\", \"content/temp/\",\"content/drive/MyDrive/temp/\", \n",
    "                                           sentences_list, target_values)\n",
    "print(temp_dataset.data_list.x[12, :])"
   ]
  },
  {
   "cell_type": "code",
   "execution_count": 51,
   "id": "98b25f0f",
   "metadata": {},
   "outputs": [
    {
     "name": "stdout",
     "output_type": "stream",
     "text": [
      "['content/temp//temp.pt']\n",
      "tensor([-0.0092,  0.0024,  0.0132,  0.0089,  0.0037,  0.0170,  0.0156,  0.0025,\n",
      "         0.0160, -0.0017, -0.0160, -0.0007, -0.1355, -0.0130,  0.0152, -0.0096,\n",
      "        -0.0043, -0.0147, -0.0193, -0.0232, -0.0040,  0.0004,  0.0022, -0.0007,\n",
      "        -0.0031, -0.0199,  0.0031,  0.0042, -0.0023,  0.0061, -0.0031,  0.0095,\n",
      "         0.0104, -0.0065, -0.0184, -0.0056,  0.0019, -0.0044, -0.0113, -0.0016,\n",
      "        -0.0665, -0.0095, -0.0046,  0.0113, -0.0148, -0.0076,  0.0027, -0.0006,\n",
      "        -0.0198, -0.0006, -0.0128,  0.0080, -0.0007, -0.0021,  0.0019,  0.0023,\n",
      "        -0.0101,  0.0074,  0.0125, -0.0091, -0.0024, -0.0031,  0.0054, -0.0056,\n",
      "         0.0018, -0.0074, -0.0133, -0.0027, -0.0121,  0.0137,  0.0082,  0.0125,\n",
      "         0.0078,  0.0026,  0.0100,  0.0066, -0.0168, -0.0027, -0.0034, -0.0056,\n",
      "         0.0322,  0.0133, -0.0053,  0.0068,  0.0156,  0.0125,  0.0183, -0.0128,\n",
      "        -0.0089, -0.0110, -0.0064,  0.0040,  0.0014,  0.0063, -0.0024, -0.0033,\n",
      "        -0.0044, -0.0010,  0.0159, -0.0093])\n"
     ]
    }
   ],
   "source": [
    "temp_dataset = utils.Dataset_from_sentences(\"temp\", \"content/temp/\",\"content/drive/MyDrive/temp/\", \n",
    "                                           sentences_list, target_values)\n",
    "temp_dataset.normalize_and_save()\n",
    "print(temp_dataset.data_list.x[12, :])"
   ]
  },
  {
   "cell_type": "code",
   "execution_count": null,
   "id": "46de3035",
   "metadata": {},
   "outputs": [],
   "source": []
  }
 ],
 "metadata": {
  "kernelspec": {
   "display_name": "Python 3 (ipykernel)",
   "language": "python",
   "name": "python3"
  },
  "language_info": {
   "codemirror_mode": {
    "name": "ipython",
    "version": 3
   },
   "file_extension": ".py",
   "mimetype": "text/x-python",
   "name": "python",
   "nbconvert_exporter": "python",
   "pygments_lexer": "ipython3",
   "version": "3.9.12"
  }
 },
 "nbformat": 4,
 "nbformat_minor": 5
}
